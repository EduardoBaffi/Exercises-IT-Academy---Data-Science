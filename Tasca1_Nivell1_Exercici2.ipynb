{
 "cells": [
  {
   "cell_type": "code",
   "execution_count": 1,
   "id": "c1857dc9",
   "metadata": {
    "scrolled": true
   },
   "outputs": [
    {
     "name": "stdout",
     "output_type": "stream",
     "text": [
      "12\n",
      "6\n",
      "20\n",
      "11.571428571428571\n",
      "2\n",
      "1000\n",
      "1\n"
     ]
    }
   ],
   "source": [
    "print(5+7)\n",
    "print(10-4)\n",
    "print(5+15)\n",
    "print(81/7)\n",
    "print(17%3)\n",
    "print(10**3)\n",
    "print(4//3)"
   ]
  },
  {
   "cell_type": "code",
   "execution_count": 3,
   "id": "bde5a5e4",
   "metadata": {},
   "outputs": [
    {
     "name": "stdout",
     "output_type": "stream",
     "text": [
      "1250\n"
     ]
    }
   ],
   "source": [
    "print(10*5**3)"
   ]
  },
  {
   "cell_type": "code",
   "execution_count": 4,
   "id": "dc97f18e",
   "metadata": {},
   "outputs": [
    {
     "name": "stdout",
     "output_type": "stream",
     "text": [
      "12624.769599999998\n"
     ]
    }
   ],
   "source": [
    "print(((5.3*4)/2)**4)\n"
   ]
  },
  {
   "cell_type": "code",
   "execution_count": 5,
   "id": "0dd3b8cb",
   "metadata": {
    "scrolled": true
   },
   "outputs": [
    {
     "data": {
      "text/plain": [
       "20"
      ]
     },
     "execution_count": 5,
     "metadata": {},
     "output_type": "execute_result"
    }
   ],
   "source": [
    "23+4-7\n"
   ]
  },
  {
   "cell_type": "code",
   "execution_count": 6,
   "id": "54e55137",
   "metadata": {},
   "outputs": [
    {
     "name": "stdout",
     "output_type": "stream",
     "text": [
      "20\n"
     ]
    }
   ],
   "source": [
    "print(23+4-7)"
   ]
  },
  {
   "cell_type": "code",
   "execution_count": 7,
   "id": "f381ac40",
   "metadata": {},
   "outputs": [
    {
     "name": "stdout",
     "output_type": "stream",
     "text": [
      "61\n"
     ]
    }
   ],
   "source": [
    "x=5\n",
    "y=6\n",
    "a=x**2 + y**2\n",
    "print(a)"
   ]
  },
  {
   "cell_type": "code",
   "execution_count": 9,
   "id": "62c4743d",
   "metadata": {},
   "outputs": [
    {
     "name": "stdout",
     "output_type": "stream",
     "text": [
      "1625.0\n"
     ]
    }
   ],
   "source": [
    "salary1=1500\n",
    "salary2=1800\n",
    "period1=7\n",
    "period2=5\n",
    "yearAverage=(salary1*period1 + salary2*period2)/12\n",
    "print(yearAverage)\n"
   ]
  },
  {
   "cell_type": "code",
   "execution_count": null,
   "id": "4ded229f",
   "metadata": {},
   "outputs": [],
   "source": []
  }
 ],
 "metadata": {
  "kernelspec": {
   "display_name": "Python 3",
   "language": "python",
   "name": "python3"
  },
  "language_info": {
   "codemirror_mode": {
    "name": "ipython",
    "version": 3
   },
   "file_extension": ".py",
   "mimetype": "text/x-python",
   "name": "python",
   "nbconvert_exporter": "python",
   "pygments_lexer": "ipython3",
   "version": "3.8.5"
  }
 },
 "nbformat": 4,
 "nbformat_minor": 5
}
